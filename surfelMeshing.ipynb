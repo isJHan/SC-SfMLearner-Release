{
 "cells": [
  {
   "cell_type": "code",
   "execution_count": 32,
   "metadata": {},
   "outputs": [],
   "source": [
    "from path import Path\n",
    "import cv2\n",
    "import numpy as np\n",
    "from tqdm import tqdm\n",
    "import matplotlib.pyplot as plt\n",
    "\n",
    "from util_api import load_dispNet, infer_model, read_txt"
   ]
  },
  {
   "cell_type": "markdown",
   "metadata": {},
   "source": [
    "### 推理深度保存到目录中"
   ]
  },
  {
   "cell_type": "code",
   "execution_count": 15,
   "metadata": {},
   "outputs": [],
   "source": [
    "def infer_path(files, model):\n",
    "    print(\"==> infering\")\n",
    "    depths = []\n",
    "    for file in tqdm(files):\n",
    "        depths.append(infer_model(model, file))\n",
    "    return depths\n",
    "\n",
    "def save_scene_depth(depths, filenames, save_path):\n",
    "    print(\"==> saving\")\n",
    "    for i in range(len(depths)):\n",
    "        filename = filenames[i]\n",
    "        # print(filename)\n",
    "        # print(save_path)\n",
    "        np.save(save_path/filename+'.npy', depths[i])"
   ]
  },
  {
   "cell_type": "code",
   "execution_count": 10,
   "metadata": {},
   "outputs": [
    {
     "name": "stdout",
     "output_type": "stream",
     "text": [
      "/home/jiahan/jiahan/datasets/C3VD/.dataset4SCDepth/scene_cecum_t1_a\n",
      "/home/jiahan/jiahan/datasets/C3VD/.dataset4SCDepth/scene_cecum_t2_a\n",
      "/home/jiahan/jiahan/datasets/C3VD/.dataset4SCDepth/scene_cecum_t3_a\n",
      "/home/jiahan/jiahan/datasets/C3VD/.dataset4SCDepth/scene_sigmoid_t3_a\n",
      "/home/jiahan/jiahan/datasets/C3VD/.dataset4SCDepth/scene_trans_t2_a\n",
      "/home/jiahan/jiahan/datasets/C3VD/.dataset4SCDepth/scene_trans_t3_a\n",
      "/home/jiahan/jiahan/datasets/C3VD/.dataset4SCDepth/scene_trans_t4_a\n"
     ]
    }
   ],
   "source": [
    "scene_root_path = Path(\"/home/jiahan/jiahan/datasets/C3VD/.dataset4SCDepth\")\n",
    "scene_txt_path = \"/home/jiahan/jiahan/datasets/C3VD/.dataset4SCDepth/val.txt\"\n",
    "\n",
    "model_path = \"/home/jiahan/jiahan/checkpoints/SC_Depth_on_C3VD/scenes_all_lossDepth-Anything/24-04-22-20:45/dispnet_4_checkpoint.pth.tar\"\n",
    "save_root_path = Path(\"/home/jiahan/jiahan/datasets/C3VD_surfelMeshing/240424\")\n",
    "\n",
    "model = load_dispNet(model_path)\n",
    "\n",
    "scene_names = read_txt(scene_txt_path)\n",
    "scenes = [scene_root_path/scene for scene in scene_names]\n",
    "\n",
    "for s in scenes: print(s)"
   ]
  },
  {
   "cell_type": "code",
   "execution_count": 17,
   "metadata": {},
   "outputs": [
    {
     "name": "stdout",
     "output_type": "stream",
     "text": [
      "=> processing /home/jiahan/jiahan/datasets/C3VD/.dataset4SCDepth/scene_cecum_t1_a\n",
      "==> infering\n"
     ]
    },
    {
     "name": "stderr",
     "output_type": "stream",
     "text": [
      "100%|██████████| 276/276 [00:04<00:00, 59.05it/s]\n"
     ]
    },
    {
     "name": "stdout",
     "output_type": "stream",
     "text": [
      "==> saving\n",
      "=> processing /home/jiahan/jiahan/datasets/C3VD/.dataset4SCDepth/scene_cecum_t2_a\n",
      "==> infering\n"
     ]
    },
    {
     "name": "stderr",
     "output_type": "stream",
     "text": [
      "100%|██████████| 370/370 [00:06<00:00, 59.13it/s]\n"
     ]
    },
    {
     "name": "stdout",
     "output_type": "stream",
     "text": [
      "==> saving\n",
      "=> processing /home/jiahan/jiahan/datasets/C3VD/.dataset4SCDepth/scene_cecum_t3_a\n",
      "==> infering\n"
     ]
    },
    {
     "name": "stderr",
     "output_type": "stream",
     "text": [
      "100%|██████████| 730/730 [00:12<00:00, 58.82it/s]\n"
     ]
    },
    {
     "name": "stdout",
     "output_type": "stream",
     "text": [
      "==> saving\n",
      "=> processing /home/jiahan/jiahan/datasets/C3VD/.dataset4SCDepth/scene_sigmoid_t3_a\n",
      "==> infering\n"
     ]
    },
    {
     "name": "stderr",
     "output_type": "stream",
     "text": [
      "100%|██████████| 613/613 [00:10<00:00, 58.02it/s]\n"
     ]
    },
    {
     "name": "stdout",
     "output_type": "stream",
     "text": [
      "==> saving\n",
      "=> processing /home/jiahan/jiahan/datasets/C3VD/.dataset4SCDepth/scene_trans_t2_a\n",
      "==> infering\n"
     ]
    },
    {
     "name": "stderr",
     "output_type": "stream",
     "text": [
      "100%|██████████| 194/194 [00:03<00:00, 57.51it/s]\n"
     ]
    },
    {
     "name": "stdout",
     "output_type": "stream",
     "text": [
      "==> saving\n",
      "=> processing /home/jiahan/jiahan/datasets/C3VD/.dataset4SCDepth/scene_trans_t3_a\n",
      "==> infering\n"
     ]
    },
    {
     "name": "stderr",
     "output_type": "stream",
     "text": [
      "100%|██████████| 250/250 [00:04<00:00, 57.77it/s]\n"
     ]
    },
    {
     "name": "stdout",
     "output_type": "stream",
     "text": [
      "==> saving\n",
      "=> processing /home/jiahan/jiahan/datasets/C3VD/.dataset4SCDepth/scene_trans_t4_a\n",
      "==> infering\n"
     ]
    },
    {
     "name": "stderr",
     "output_type": "stream",
     "text": [
      "100%|██████████| 382/382 [00:06<00:00, 57.53it/s]\n"
     ]
    },
    {
     "name": "stdout",
     "output_type": "stream",
     "text": [
      "==> saving\n"
     ]
    }
   ],
   "source": [
    "\n",
    "maxs, mins = [], []\n",
    "\n",
    "for i in range(len(scenes)):\n",
    "    scene = scenes[i]\n",
    "    print(\"=> processing\", scene)\n",
    "    img_files = sorted(scene.listdir(\"*.jpg\"))\n",
    "    depths = infer_path(img_files, model)\n",
    "\n",
    "    scene_save_path = save_root_path/scene_names[i][6:]\n",
    "    scene_save_path.makedirs_p()\n",
    "    \n",
    "    save_scene_depth(depths, [ttt.split('/')[-1][:-4] for ttt in img_files], scene_save_path)\n",
    "    \n",
    "    maxs.append(max([t.max() for t in depths]))\n",
    "    mins.append(min([t.min() for t in depths]))\n",
    "\n",
    "\n",
    "    "
   ]
  },
  {
   "cell_type": "code",
   "execution_count": 34,
   "metadata": {},
   "outputs": [
    {
     "name": "stdout",
     "output_type": "stream",
     "text": [
      "scene_name \t\t\t max \t\t\t min\t\t\n",
      "-----------------------------------------------------\n",
      "scene_cecum_t1_a \t\t 0.5250387 \t\t 0.09980039\n",
      "scene_cecum_t2_a \t\t 0.5089335 \t\t 0.09980039\n",
      "scene_cecum_t3_a \t\t 0.48005617 \t\t 0.09980039\n",
      "scene_sigmoid_t3_a \t\t 0.466748 \t\t 0.09980039\n",
      "scene_trans_t2_a \t\t 0.6873442 \t\t 0.09980039\n",
      "scene_trans_t3_a \t\t 0.5640062 \t\t 0.09980039\n",
      "scene_trans_t4_a \t\t 0.4952931 \t\t 0.09980039\n",
      "[0.5250387, 0.5089335, 0.48005617, 0.466748, 0.6873442, 0.5640062, 0.4952931]\n"
     ]
    },
    {
     "data": {
      "image/png": "[encoded data removed]",
      "text/plain": [
       "<Figure size 640x480 with 1 Axes>"
      ]
     },
     "metadata": {},
     "output_type": "display_data"
    }
   ],
   "source": [
    "\"展示最大最小值的情况\"\n",
    "\n",
    "print(\"scene_name \\t\\t\\t max \\t\\t\\t min\\t\\t\")\n",
    "print(\"-----------------------------------------------------\")\n",
    "for i in range(len(scene_names)):\n",
    "    scene_name = scene_names[i]\n",
    "    \n",
    "    print(scene_name,\"\\t\\t\", maxs[i], \"\\t\\t\", mins[i])\n",
    "\n",
    "plt.plot(maxs)\n",
    "plt.plot(mins)\n",
    "\n"
   ]
  },
  {
   "cell_type": "markdown",
   "metadata": {},
   "source": [
    "### 将npy的深度图转换成最大是15000的png图"
   ]
  },
  {
   "cell_type": "code",
   "execution_count": 40,
   "metadata": {},
   "outputs": [],
   "source": [
    "def transfer_to_png(depths, max_value):\n",
    "    depths = [depth/max_value for depth in depths]\n",
    "    depths = [depth*15000 for depth in depths]\n",
    "    depths = [depth.astype(np.uint16) for depth in depths]\n",
    "    return depths\n",
    "\n",
    "def save_to_png(png_depths, save_path):\n",
    "    for i in range(len(png_depths)):\n",
    "        png_depth = png_depths[i]\n",
    "        save_name = f\"frame-{i:06d}.depth.png\"\n",
    "        cv2.imwrite(save_path/save_name, png_depth)"
   ]
  },
  {
   "cell_type": "code",
   "execution_count": 42,
   "metadata": {},
   "outputs": [
    {
     "name": "stdout",
     "output_type": "stream",
     "text": [
      "=> processing  /home/jiahan/jiahan/datasets/C3VD_surfelMeshing/240424/SC_depth_output/cecum_t1_a\n",
      "=> processing  /home/jiahan/jiahan/datasets/C3VD_surfelMeshing/240424/SC_depth_output/cecum_t2_a\n",
      "=> processing  /home/jiahan/jiahan/datasets/C3VD_surfelMeshing/240424/SC_depth_output/cecum_t3_a\n",
      "=> processing  /home/jiahan/jiahan/datasets/C3VD_surfelMeshing/240424/SC_depth_output/sigmoid_t3_a\n",
      "=> processing  /home/jiahan/jiahan/datasets/C3VD_surfelMeshing/240424/SC_depth_output/trans_t2_a\n",
      "=> processing  /home/jiahan/jiahan/datasets/C3VD_surfelMeshing/240424/SC_depth_output/trans_t3_a\n",
      "=> processing  /home/jiahan/jiahan/datasets/C3VD_surfelMeshing/240424/SC_depth_output/trans_t4_a\n"
     ]
    }
   ],
   "source": [
    "npy_root_path = Path(\"/home/jiahan/jiahan/datasets/C3VD_surfelMeshing/240424/SC_depth_output\")\n",
    "scenes = sorted(npy_root_path.listdir())\n",
    "\n",
    "maxs = [0.5250387, 0.5089335, 0.48005617, 0.466748, 0.6873442, 0.5640062, 0.4952931]\n",
    "\n",
    "png_save_path = Path(\"/home/jiahan/jiahan/datasets/C3VD_surfelMeshing/240424\")\n",
    "\n",
    "for i in range(len(scenes)):\n",
    "    scene = scenes[i]\n",
    "    print(\"=> processing \",scene)\n",
    "    scene_name = scene.split('/')[-1]\n",
    "    scene_save_path = png_save_path/scene_name/\"depth\"\n",
    "    scene_save_path.makedirs_p()\n",
    "    \n",
    "    depths = [np.load(t) for t in sorted(scene.listdir(\"*.npy\"))]\n",
    "    png_depths = transfer_to_png(depths, maxs[i])\n",
    "    save_to_png(png_depths, scene_save_path)\n",
    "    "
   ]
  }
 ],
 "metadata": {
  "kernelspec": {
   "display_name": "sfmLearner",
   "language": "python",
   "name": "python3"
  },
  "language_info": {
   "codemirror_mode": {
    "name": "ipython",
    "version": 3
   },
   "file_extension": ".py",
   "mimetype": "text/x-python",
   "name": "python",
   "nbconvert_exporter": "python",
   "pygments_lexer": "ipython3",
   "version": "3.8.13"
  }
 },
 "nbformat": 4,
 "nbformat_minor": 2
}
